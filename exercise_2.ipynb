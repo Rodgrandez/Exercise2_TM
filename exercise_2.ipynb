{
 "cells": [
  {
   "cell_type": "code",
   "execution_count": 1,
   "metadata": {},
   "outputs": [],
   "source": [
    "import matplotlib.pyplot as plt\n",
    "plt.rcParams['figure.figsize'] = [14, 10]"
   ]
  },
  {
   "cell_type": "code",
   "execution_count": 2,
   "metadata": {},
   "outputs": [],
   "source": [
    "import seaborn as sns\n",
    "import numpy as np\n",
    "import pandas as pd\n",
    "from sklearn.model_selection import cross_val_score\n",
    "from sklearn.naive_bayes import MultinomialNB\n",
    "from sklearn.linear_model import LogisticRegression\n",
    "from sklearn.decomposition import TruncatedSVD\n",
    "from sklearn.manifold import TSNE, MDS\n",
    "from bs4 import BeautifulSoup\n",
    "from sklearn.feature_extraction.text import TfidfVectorizer, CountVectorizer, TfidfTransformer\n",
    "\n",
    "def preprocess(s):\n",
    "    s = BeautifulSoup(s, 'html5lib').get_text()\n",
    "    s = ' '.join(s.split())\n",
    "    s = s.strip().lower()\n",
    "    return s"
   ]
  },
  {
   "cell_type": "code",
   "execution_count": 3,
   "metadata": {},
   "outputs": [],
   "source": [
    "yelps = pd.read_csv('data/yelps.csv').sample(frac=1.)\n",
    "movies = pd.read_csv('data//movies.csv').sample(frac=1.)"
   ]
  },
  {
   "cell_type": "markdown",
   "metadata": {},
   "source": [
    "# Inspecting p(X) of the BOW vectorizers¶\n",
    "Assuming that our data consists of discrete features, as in the Bag of Words models we have seen so far, visualizing $p(X)$ consists of visualizing the PMF of a multionomial distribution that consists of all the features in our data.\n",
    "\n",
    "Of course, this is a very wide distribution, even if we just include unigrams.\n",
    "\n",
    "Thus, we will visualize just the most popular features.\n",
    "\n",
    "We will see how, given the most popular features of one dataset, the other dataset compares"
   ]
  },
  {
   "cell_type": "code",
   "execution_count": 4,
   "metadata": {},
   "outputs": [],
   "source": [
    "from copy import deepcopy\n",
    "\n",
    "def _train_and_transform(vectorizer, X):\n",
    "    vectorizer.fit(X)\n",
    "    return vectorizer, vectorizer.transform(X)\n",
    "\n",
    "def compare(vectorizer, A, B):\n",
    "    vec_A, VA = _train_and_transform(deepcopy(vectorizer), A) \n",
    "    vec_B, VB = _train_and_transform(deepcopy(vectorizer), B) \n",
    "\n",
    "    # Get the most popular words for A\n",
    "    # ignoring the top 25 super common\n",
    "    # words\n",
    "    sums = np.array(VA.sum(0)).reshape(-1)\n",
    "    tops = np.argsort(sums)[-325:-25]\n",
    "    freqs_A = sums[tops]\n",
    "\n",
    "    features = np.array(vec_A.get_feature_names())[tops]\n",
    "\n",
    "    idxs = np.array([vec_B.vocabulary_.get(s) for s in features])\n",
    "    sums = np.array(VB.sum(0)).reshape(-1)\n",
    "    freqs_B = [sums[i] if i else 0. for i in idxs]\n",
    "\n",
    "    return pd.concat([pd.DataFrame({ 'word': features, 'dataset': d, 'freq': f }) \n",
    "                      for d,f in [('A',freqs_A), ('B',freqs_B)]])"
   ]
  },
  {
   "cell_type": "code",
   "execution_count": 5,
   "metadata": {},
   "outputs": [],
   "source": [
    "vectorizer = TfidfVectorizer(preprocessor = preprocess, min_df = 1, use_idf=False)\n",
    "df = compare(vectorizer, yelps.sample(500).text, movies.sample(500).text)"
   ]
  },
  {
   "cell_type": "code",
   "execution_count": 6,
   "metadata": {},
   "outputs": [
    {
     "data": {
      "text/plain": [
       "<matplotlib.axes._subplots.AxesSubplot at 0xca83f98>"
      ]
     },
     "execution_count": 6,
     "metadata": {},
     "output_type": "execute_result"
    },
    {
     "data": {
      "image/png": "[encoded data removed]",
      "text/plain": [
       "<Figure size 432x288 with 1 Axes>"
      ]
     },
     "metadata": {
      "needs_background": "light"
     },
     "output_type": "display_data"
    }
   ],
   "source": [
    "sns.barplot(x = 'word', \n",
    "            y = 'freq', \n",
    "            data = df[df.dataset == 'A'])"
   ]
  },
  {
   "cell_type": "code",
   "execution_count": 7,
   "metadata": {
    "scrolled": false
   },
   "outputs": [
    {
     "data": {
      "text/plain": [
       "<matplotlib.axes._subplots.AxesSubplot at 0xcd3f8d0>"
      ]
     },
     "execution_count": 7,
     "metadata": {},
     "output_type": "execute_result"
    },
    {
     "data": {
      "image/png": "[encoded data removed]",
      "text/plain": [
       "<Figure size 432x288 with 1 Axes>"
      ]
     },
     "metadata": {
      "needs_background": "light"
     },
     "output_type": "display_data"
    }
   ],
   "source": [
    "sns.barplot(x = 'word', \n",
    "            y = 'freq', \n",
    "            data = df[df.dataset == 'B'])"
   ]
  },
  {
   "cell_type": "markdown",
   "metadata": {},
   "source": [
    "# Generative vs. Discriminative\n",
    "Play around with the following plotting function. Is this consisten with the theoretical results of Ng and Jordan? Can you get the opposite results? Why?"
   ]
  },
  {
   "cell_type": "code",
   "execution_count": 8,
   "metadata": {
    "scrolled": true
   },
   "outputs": [
    {
     "name": "stderr",
     "output_type": "stream",
     "text": [
      "C:\\Users\\Rodrigo\\Anaconda3\\lib\\site-packages\\bs4\\__init__.py:273: UserWarning: \"b'..'\" looks like a filename, not markup. You should probably open this file and pass the filehandle into Beautiful Soup.\n",
      "  ' Beautiful Soup.' % markup)\n",
      "C:\\Users\\Rodrigo\\Anaconda3\\lib\\site-packages\\bs4\\__init__.py:273: UserWarning: \"b'...'\" looks like a filename, not markup. You should probably open this file and pass the filehandle into Beautiful Soup.\n",
      "  ' Beautiful Soup.' % markup)\n",
      "C:\\Users\\Rodrigo\\Anaconda3\\lib\\site-packages\\bs4\\__init__.py:273: UserWarning: \"b'..'\" looks like a filename, not markup. You should probably open this file and pass the filehandle into Beautiful Soup.\n",
      "  ' Beautiful Soup.' % markup)\n",
      "C:\\Users\\Rodrigo\\Anaconda3\\lib\\site-packages\\bs4\\__init__.py:336: UserWarning: \"https://www.consumeraffairs.com/news/mypillow-gets-a-rude-awakening-as-the-better-business-bureau-gives-it-an-f-010517.html\" looks like a URL. Beautiful Soup is not an HTTP client. You should probably use an HTTP client like requests to get the document behind the URL, and feed that document to Beautiful Soup.\n",
      "  ' that document to Beautiful Soup.' % decoded_markup\n",
      "C:\\Users\\Rodrigo\\Anaconda3\\lib\\site-packages\\sklearn\\linear_model\\logistic.py:433: FutureWarning: Default solver will be changed to 'lbfgs' in 0.22. Specify a solver to silence this warning.\n",
      "  FutureWarning)\n",
      "C:\\Users\\Rodrigo\\Anaconda3\\lib\\site-packages\\sklearn\\linear_model\\logistic.py:433: FutureWarning: Default solver will be changed to 'lbfgs' in 0.22. Specify a solver to silence this warning.\n",
      "  FutureWarning)\n",
      "C:\\Users\\Rodrigo\\Anaconda3\\lib\\site-packages\\sklearn\\linear_model\\logistic.py:433: FutureWarning: Default solver will be changed to 'lbfgs' in 0.22. Specify a solver to silence this warning.\n",
      "  FutureWarning)\n",
      "C:\\Users\\Rodrigo\\Anaconda3\\lib\\site-packages\\sklearn\\linear_model\\logistic.py:433: FutureWarning: Default solver will be changed to 'lbfgs' in 0.22. Specify a solver to silence this warning.\n",
      "  FutureWarning)\n",
      "C:\\Users\\Rodrigo\\Anaconda3\\lib\\site-packages\\sklearn\\linear_model\\logistic.py:433: FutureWarning: Default solver will be changed to 'lbfgs' in 0.22. Specify a solver to silence this warning.\n",
      "  FutureWarning)\n",
      "C:\\Users\\Rodrigo\\Anaconda3\\lib\\site-packages\\sklearn\\linear_model\\logistic.py:433: FutureWarning: Default solver will be changed to 'lbfgs' in 0.22. Specify a solver to silence this warning.\n",
      "  FutureWarning)\n",
      "C:\\Users\\Rodrigo\\Anaconda3\\lib\\site-packages\\sklearn\\linear_model\\logistic.py:433: FutureWarning: Default solver will be changed to 'lbfgs' in 0.22. Specify a solver to silence this warning.\n",
      "  FutureWarning)\n"
     ]
    },
    {
     "data": {
      "text/plain": [
       "<matplotlib.axes._subplots.AxesSubplot at 0x16b79e48>"
      ]
     },
     "execution_count": 8,
     "metadata": {},
     "output_type": "execute_result"
    },
    {
     "data": {
      "image/png": "[encoded data removed]",
      "text/plain": [
       "<Figure size 432x288 with 1 Axes>"
      ]
     },
     "metadata": {
      "needs_background": "light"
     },
     "output_type": "display_data"
    }
   ],
   "source": [
    "vectorizer = TfidfVectorizer(preprocessor = preprocess, min_df = 20, use_idf=False)\n",
    "V = vectorizer.fit_transform(yelps.text)\n",
    "y = yelps.positive\n",
    "\n",
    "def _cv_score(V, y, models):\n",
    "    return [{ 'name': name, 'value': np.mean(cross_val_score(model, V, y, cv=3)) }\n",
    "            for name, model in models]\n",
    "\n",
    "def plot_cv_scores(V, y, models, ticks):\n",
    "    scores = [_cv_score(V[:t], y[:t], models) for t in ticks]        \n",
    "    scores = [({'N': np.log(t) , **i}) for t,s \n",
    "              in zip(ticks, scores) for i in s]\n",
    "    df = pd.DataFrame(scores)\n",
    "    return sns.lineplot(y='value', x='N', hue='name', data=df)\n",
    "\n",
    "models = [('NB', MultinomialNB(fit_prior=False)), \n",
    "          ('LR', LogisticRegression())]\n",
    "\n",
    "plot_cv_scores(V, y, models, [300, 600, 1200, 2400, 4800, 9600, 19200])"
   ]
  },
  {
   "cell_type": "markdown",
   "metadata": {},
   "source": [
    "# Searching the Grid\n",
    "Hyperparameter tuning, in its simplest form, can be done via a grid search.\n",
    "\n",
    "We can use cross validation to estimate the out-of-sample expected risk.\n",
    "\n",
    "SKlearn gives us a very nice package for this: GridSearchCV\n",
    "\n",
    "The API can be a bit complicated at first glance, but it's simple once you get used to it and comfortable with the idea of a \"pipeline\"."
   ]
  },
  {
   "cell_type": "code",
   "execution_count": 9,
   "metadata": {},
   "outputs": [],
   "source": [
    "# Perform gridsearch on a smaller sample of the data \n",
    "yelps = yelps.sample(10000)\n",
    "movies = movies.sample(10000)"
   ]
  },
  {
   "cell_type": "code",
   "execution_count": 10,
   "metadata": {},
   "outputs": [
    {
     "name": "stdout",
     "output_type": "stream",
     "text": [
      "(8000,)\n",
      "(8000,)\n",
      "(2000,)\n",
      "(2000,)\n"
     ]
    }
   ],
   "source": [
    "from sklearn.model_selection import train_test_split\n",
    "X_train_text, X_test_text, y_train_positive, y_test_positive = train_test_split(yelps.text, \n",
    "                                                                                yelps.positive, \n",
    "                                                                                test_size=0.2, \n",
    "                                                                                random_state=1)\n",
    "print(X_train_text.shape)\n",
    "print(y_train_positive.shape)\n",
    "print(X_test_text.shape)\n",
    "print(y_test_positive.shape)"
   ]
  },
  {
   "cell_type": "code",
   "execution_count": 11,
   "metadata": {},
   "outputs": [],
   "source": [
    "from sklearn.pipeline import Pipeline\n",
    "pipeline = Pipeline([('vect' , TfidfVectorizer()),\n",
    "                     ('clf'  , MultinomialNB()),])"
   ]
  },
  {
   "cell_type": "code",
   "execution_count": 12,
   "metadata": {},
   "outputs": [],
   "source": [
    "parameters = {\n",
    "'vect__ngram_range': [(1, 1), (1, 2)],\n",
    "'vect__max_features': (None, 5000, 10000, 50000),\n",
    "'clf__alpha': (1e-2, 1e-3),\n",
    "}\n"
   ]
  },
  {
   "cell_type": "code",
   "execution_count": 13,
   "metadata": {},
   "outputs": [],
   "source": [
    "from sklearn.model_selection import GridSearchCV\n",
    "from time import time\n",
    "gs_clf = GridSearchCV(pipeline, parameters, cv=5, iid=False, n_jobs=-1)\n"
   ]
  },
  {
   "cell_type": "code",
   "execution_count": 14,
   "metadata": {},
   "outputs": [
    {
     "name": "stdout",
     "output_type": "stream",
     "text": [
      "Performing grid search...\n",
      "pipeline: ['vect', 'clf']\n",
      "parameters:\n",
      "{'vect__ngram_range': [(1, 1), (1, 2)], 'vect__max_features': (None, 5000, 10000, 50000), 'clf__alpha': (0.01, 0.001)}\n",
      "done in 136.891s\n",
      "\n",
      "Best score: 0.925\n",
      "Best parameters set:\n",
      "\tclf__alpha: 0.01\n",
      "\tvect__max_features: None\n",
      "\tvect__ngram_range: (1, 2)\n"
     ]
    }
   ],
   "source": [
    "print(\"Performing grid search...\")\n",
    "print(\"pipeline:\", [name for name, _ in pipeline.steps])\n",
    "print(\"parameters:\")\n",
    "print(parameters)\n",
    "t0 = time()\n",
    "gs_clf.fit(X_train_text, y_train_positive)\n",
    "print(\"done in %0.3fs\" % (time() - t0))\n",
    "print()\n",
    "\n",
    "print(\"Best score: %0.3f\" % gs_clf.best_score_)\n",
    "print(\"Best parameters set:\")\n",
    "best_parameters = gs_clf.best_estimator_.get_params()\n",
    "for param_name in sorted(parameters.keys()):\n",
    "    print(\"\\t%s: %r\" % (param_name, best_parameters[param_name]))"
   ]
  },
  {
   "cell_type": "code",
   "execution_count": 15,
   "metadata": {},
   "outputs": [],
   "source": [
    "# make class predictions for yelps\n",
    "y_pred_class = gs_clf.predict(X_test_text)\n"
   ]
  },
  {
   "cell_type": "code",
   "execution_count": 16,
   "metadata": {},
   "outputs": [
    {
     "data": {
      "text/plain": [
       "0.9235"
      ]
     },
     "execution_count": 16,
     "metadata": {},
     "output_type": "execute_result"
    }
   ],
   "source": [
    "from sklearn import metrics\n",
    "metrics.accuracy_score(y_test_positive, y_pred_class)"
   ]
  },
  {
   "cell_type": "markdown",
   "metadata": {},
   "source": [
    "## Crosstraining\n",
    "Test how well your model, when trained on one dataset, performs on the other.\n",
    "\n",
    "To do this, make sure that you:\n",
    "\n",
    "You perform the \"fitting\" of both the vectorizer and the model on one of the sets.\n",
    "Use the \"transform\" of the vectorizer to transform the second dataset into the same feature space (X) that your model was trained on.\n",
    "Use the \"predict\" of your model to see how well it did on the second dataset.\n",
    "How well does your model generalize from one to the other? What does this say about \"sentiment\"?"
   ]
  },
  {
   "cell_type": "code",
   "execution_count": 17,
   "metadata": {},
   "outputs": [],
   "source": [
    "# Perform on a smaller sample of the data \n",
    "yelps = yelps.sample(10000)\n",
    "movies = movies.sample(10000)"
   ]
  },
  {
   "cell_type": "code",
   "execution_count": 24,
   "metadata": {},
   "outputs": [],
   "source": [
    "Vect = TfidfVectorizer(preprocessor = preprocess, ngram_range= (1, 2))\n",
    "X_yelps_train = Vect.fit_transform(yelps.text)"
   ]
  },
  {
   "cell_type": "code",
   "execution_count": 25,
   "metadata": {},
   "outputs": [
    {
     "data": {
      "text/plain": [
       "MultinomialNB(alpha=0.01, class_prior=None, fit_prior=True)"
      ]
     },
     "execution_count": 25,
     "metadata": {},
     "output_type": "execute_result"
    }
   ],
   "source": [
    "nb__Multinomial = MultinomialNB(alpha= 0.01)\n",
    "nb__Multinomial.fit(X_yelps_train, yelps.positive)"
   ]
  },
  {
   "cell_type": "code",
   "execution_count": 26,
   "metadata": {},
   "outputs": [],
   "source": [
    "X_movies_test = Vect.transform(movies.text)"
   ]
  },
  {
   "cell_type": "code",
   "execution_count": 27,
   "metadata": {},
   "outputs": [],
   "source": [
    "# make class predictions for movies\n",
    "y_pred_class = nb__Multinomial.predict(X_movies_test)"
   ]
  },
  {
   "cell_type": "code",
   "execution_count": 28,
   "metadata": {},
   "outputs": [
    {
     "data": {
      "text/plain": [
       "0.7484"
      ]
     },
     "execution_count": 28,
     "metadata": {},
     "output_type": "execute_result"
    }
   ],
   "source": [
    "# calculate accuracy of class predictions\n",
    "metrics.accuracy_score(movies.positive, y_pred_class)\n"
   ]
  },
  {
   "cell_type": "code",
   "execution_count": 29,
   "metadata": {},
   "outputs": [
    {
     "data": {
      "text/plain": [
       "0.7492242526257242"
      ]
     },
     "execution_count": 29,
     "metadata": {},
     "output_type": "execute_result"
    }
   ],
   "source": [
    "# calculate auc of class predictions\n",
    "metrics.roc_auc_score(movies.positive, y_pred_class)"
   ]
  },
  {
   "cell_type": "markdown",
   "metadata": {},
   "source": [
    "# How well does your model generalize from one to the other?\n",
    "The model, which was trained on the development set (restaurant sentiment), demonstrated  \n",
    "an accuracy equal to 0.7484 on the evaluation set (movies sentiment). This accuracy was reduced from 0.9235 to 0.7484 when the model was used to predict movie data set, which means that the performance of the model decreases almost 19 percent. "
   ]
  },
  {
   "cell_type": "markdown",
   "metadata": {},
   "source": [
    "# What does this say about \"sentiment\"?\n",
    "\n",
    "Sentiment is sensitive to the data we are analyzing."
   ]
  }
 ],
 "metadata": {
  "kernelspec": {
   "display_name": "Python 3",
   "language": "python",
   "name": "python3"
  },
  "language_info": {
   "codemirror_mode": {
    "name": "ipython",
    "version": 3
   },
   "file_extension": ".py",
   "mimetype": "text/x-python",
   "name": "python",
   "nbconvert_exporter": "python",
   "pygments_lexer": "ipython3",
   "version": "3.7.1"
  }
 },
 "nbformat": 4,
 "nbformat_minor": 2
}
